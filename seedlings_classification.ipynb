{
 "cells": [
  {
   "cell_type": "code",
   "execution_count": 1,
   "metadata": {
    "scrolled": true
   },
   "outputs": [
    {
     "name": "stdout",
     "output_type": "stream",
     "text": [
      "# packages in environment at D:\\Program\\anaconda3\\envs\\pytorch:\n",
      "#\n",
      "asn1crypto                0.24.0                   py36_0  \n",
      "attrs                     17.3.0           py36hc87868e_0  \n",
      "beautifulsoup4            4.6.0                     <pip>\n",
      "bleach                    2.1.2                    py36_0  \n",
      "ca-certificates           2017.08.26           h94faf87_0  \n",
      "certifi                   2017.11.5        py36hb8ac631_0  \n",
      "certifi                   2018.1.18                 <pip>\n",
      "cffi                      1.11.2           py36h829d1a5_0  \n",
      "chardet                   3.0.4            py36h420ce6e_1  \n",
      "colorama                  0.3.9            py36h029ae33_0  \n",
      "coverage                  4.4.2            py36hd32d05b_0  \n",
      "cryptography              2.1.4            py36he1d7878_0  \n",
      "cuda80                    1.0                  h205658b_0    peterjc123\n",
      "decorator                 4.2.1                    py36_0  \n",
      "entrypoints               0.2.3            py36hfd66bb0_2  \n",
      "html5lib                  1.0.1            py36h047fa9f_0  \n",
      "hypothesis                3.38.5           py36h987501d_0  \n",
      "icc_rt                    2017.0.4             h97af966_0  \n",
      "icu                       58.2                 ha66f8fd_1  \n",
      "idna                      2.6              py36h148d497_1  \n",
      "intel-openmp              2018.0.0             hd92c6cd_8  \n",
      "ipykernel                 4.7.0            py36h2f9c1c0_0  \n",
      "ipython                   6.2.1            py36h9cf0123_1  \n",
      "ipython_genutils          0.2.0            py36h3c5d0ee_0  \n",
      "ipywidgets                7.1.0                    py36_0  \n",
      "jedi                      0.11.1                   py36_0  \n",
      "jinja2                    2.10             py36h292fed1_0  \n",
      "jpeg                      9b                       vc14_1  [vc14]  conda-forge\n",
      "jsonschema                2.6.0            py36h7636477_0  \n",
      "jupyter                   1.0.0            py36h422fd7e_2  \n",
      "jupyter_client            5.2.1                    py36_0  \n",
      "jupyter_console           5.2.0            py36h6d89b47_1  \n",
      "jupyter_core              4.4.0            py36h56e9d50_0  \n",
      "kaggle-data               0.4                       <pip>\n",
      "libpng                    1.6.32               h140d38e_4  \n",
      "libtiff                   4.0.6                    vc14_6  [vc14]  conda-forge\n",
      "libwebp                   0.5.2                    vc14_7  [vc14]  conda-forge\n",
      "lxml                      4.1.1                     <pip>\n",
      "markupsafe                1.0              py36h0e26971_1  \n",
      "MechanicalSoup            0.9.0.post4               <pip>\n",
      "mistune                   0.8.3                    py36_0  \n",
      "mkl                       2018.0.1             h2108138_4  \n",
      "nbconvert                 5.3.1            py36h8dc0fde_0  \n",
      "nbformat                  4.4.0            py36h3a5bc1b_0  \n",
      "notebook                  5.3.1                    py36_0  \n",
      "numpy                     1.13.3           py36ha320f96_0  \n",
      "opencv                    3.2.0             np113py36_203    conda-forge\n",
      "openssl                   1.0.2n               h74b6da3_0  \n",
      "pandoc                    1.19.2.1             hb2460c7_1  \n",
      "pandocfilters             1.4.2            py36h3ef6317_1  \n",
      "parso                     0.1.1            py36hae3edee_0  \n",
      "pickleshare               0.7.4            py36h9de030f_0  \n",
      "Pillow                    5.0.0                     <pip>\n",
      "pip                       9.0.1            py36h226ae91_4  \n",
      "pluggy                    0.6.0            py36hc7daf1e_0  \n",
      "progressbar2              3.34.3           py36hbb40c1d_0  \n",
      "prompt_toolkit            1.0.15           py36h60b8f86_0  \n",
      "py                        1.5.2            py36hbcfbabc_0  \n",
      "pycparser                 2.18             py36hd053e01_1  \n",
      "pygments                  2.2.0            py36hb010967_0  \n",
      "pympler                   0.5              py36h863af32_0  \n",
      "pyopenssl                 17.5.0           py36h5b7d817_0  \n",
      "pyqt                      5.6.0            py36hb5ed885_5  \n",
      "pysocks                   1.6.7            py36h698d350_1  \n",
      "pytest                    3.3.2                    py36_0  \n",
      "pytest-runner             3.0              py36h87cb514_0  \n",
      "python                    3.6.3                h3b118a2_4  \n",
      "python-dateutil           2.6.1            py36h509ddcb_1  \n",
      "python-utils              2.2.0                     <pip>\n",
      "python-utils              2.2.0                    py36_0  \n",
      "pytorch                   0.3.0            py36_0.3.0cu80  [cuda80]  peterjc123\n",
      "PyYAML                    3.12                      <pip>\n",
      "pyzmq                     16.0.3           py36he714bf5_0  \n",
      "qt                        5.6.2           vc14h6f8c307_12  \n",
      "qtconsole                 4.3.1            py36h99a29a9_0  \n",
      "requests                  2.18.4           py36h4371aae_1  \n",
      "scikit-learn              0.19.1           py36h53aea1b_0  \n",
      "scipy                     1.0.0            py36h1260518_0  \n",
      "send2trash                1.4.2                    py36_0  \n",
      "setuptools                36.5.0           py36h65f9e6e_0  \n",
      "simplegeneric             0.8.1            py36heab741f_0  \n",
      "sip                       4.18.1           py36h9c25514_2  \n",
      "six                       1.11.0                    <pip>\n",
      "six                       1.11.0           py36h4db2310_1  \n",
      "sqlite                    3.20.1               h9eeafa9_2  \n",
      "testpath                  0.3.1            py36h2698cfe_0  \n",
      "torchvision               0.1.8                     <pip>\n",
      "tornado                   4.5.3                    py36_0  \n",
      "traitlets                 4.3.2            py36h096827d_0  \n",
      "urllib3                   1.22             py36h276f60a_0  \n",
      "vc                        14.1                 h21ff451_0    peterjc123\n",
      "vs2015_runtime            14.0.25123           hd4c4e62_2  \n",
      "vs2017_runtime            15.4.27004.2010               0    peterjc123\n",
      "wcwidth                   0.1.7            py36h3d5aa90_0  \n",
      "webencodings              0.5.1            py36h67c50ae_1  \n",
      "wheel                     0.30.0           py36h6c3ec14_1  \n",
      "widgetsnbextension        3.1.0                    py36_0  \n",
      "win_inet_pton             1.0.1            py36he67d7fd_1  \n",
      "wincertstore              0.2              py36h7fe50ca_0  \n",
      "zlib                      1.2.11                   vc14_0  [vc14]  conda-forge\n",
      "zope                      1.0                      py36_0  \n",
      "zope.interface            4.4.3            py36h56cab3c_0  \n",
      "\n"
     ]
    }
   ],
   "source": [
    "import sys \n",
    "import os\n",
    "sys.version\n",
    "p=os.popen(\"conda list\")\n",
    "mystr=p.read()\n",
    "print(mystr)"
   ]
  },
  {
   "cell_type": "code",
   "execution_count": 4,
   "metadata": {},
   "outputs": [],
   "source": [
    "import download\n",
    "import constants"
   ]
  },
  {
   "cell_type": "code",
   "execution_count": null,
   "metadata": {},
   "outputs": [
    {
     "name": "stdout",
     "output_type": "stream",
     "text": [
      "D:\\Project\\Space\\Python\\Personal\\PlantSeedlingsImage\\sample_submission.csv\n",
      "username:twinsnan@foxmail.com, password:idm-1925\n"
     ]
    },
    {
     "name": "stderr",
     "output_type": "stream",
     "text": [
      "\r",
      "                                                                               \r",
      "\r",
      "sample_submission.csv.zip N/A% |                     | ETA:  --:--:--   0.0 s/B"
     ]
    },
    {
     "name": "stdout",
     "output_type": "stream",
     "text": [
      "downloading https://www.kaggle.com/c/plant-seedlings-classification/download/sample_submission.csv.zip to ../PlantSeedlingsImage/sample_submission.csv.zip\n",
      "\n"
     ]
    },
    {
     "name": "stderr",
     "output_type": "stream",
     "text": [
      "sample_submission.csv.zip 100% |####################| Time: 0:00:00   7.5 KiB/s\n"
     ]
    },
    {
     "name": "stdout",
     "output_type": "stream",
     "text": [
      "Extracting ../PlantSeedlingsImage/sample_submission.csv.zip to ../PlantSeedlingsImage/sample_submission.csv ...\n",
      "Extraction finished\n",
      "D:\\Project\\Space\\Python\\Personal\\PlantSeedlingsImage\\test\n",
      "username:twinsnan@foxmail.com, password:idm-1925\n"
     ]
    },
    {
     "name": "stderr",
     "output_type": "stream",
     "text": [
      "\r",
      "                                                                               \r",
      "\r",
      "test.zip N/A% |                                      | ETA:  --:--:--   0.0 s/B"
     ]
    },
    {
     "name": "stdout",
     "output_type": "stream",
     "text": [
      "downloading https://www.kaggle.com/c/plant-seedlings-classification/download/test.zip to ../PlantSeedlingsImage/test.zip\n",
      "\n"
     ]
    },
    {
     "name": "stderr",
     "output_type": "stream",
     "text": [
      "test.zip 100% |#####################################| Time: 0:01:16   1.1 MiB/s\n"
     ]
    },
    {
     "name": "stdout",
     "output_type": "stream",
     "text": [
      "Extracting ../PlantSeedlingsImage/test.zip to ../PlantSeedlingsImage/test ...\n",
      "Extraction finished\n",
      "D:\\Project\\Space\\Python\\Personal\\PlantSeedlingsImage\\train\n",
      "username:twinsnan@foxmail.com, password:idm-1925\n"
     ]
    },
    {
     "name": "stderr",
     "output_type": "stream",
     "text": [
      "\r",
      "                                                                               \r",
      "\r",
      "train.zip N/A% |                                     | ETA:  --:--:--   0.0 s/B"
     ]
    },
    {
     "name": "stdout",
     "output_type": "stream",
     "text": [
      "downloading https://www.kaggle.com/c/plant-seedlings-classification/download/train.zip to ../PlantSeedlingsImage/train.zip\n",
      "\n"
     ]
    },
    {
     "name": "stderr",
     "output_type": "stream",
     "text": [
      "train.zip   5% |#                                   | ETA:  0:25:29   1.0 MiB/s"
     ]
    }
   ],
   "source": [
    "# Download and decompress data set\n",
    "\n",
    "download.download(constants.train_data_name, \"sample_submission.csv.zip\", r\"../PlantSeedlingsImage/\",\n",
    "             \"sample_submission.csv\")\n",
    "download.download(constants.train_data_name, \"test.zip\", r\"../PlantSeedlingsImage/\", \"test\")\n",
    "download.download(constants.train_data_name, \"train.zip\", r\"../PlantSeedlingsImage/\", \"train\")"
   ]
  },
  {
   "cell_type": "code",
   "execution_count": null,
   "metadata": {},
   "outputs": [],
   "source": []
  }
 ],
 "metadata": {
  "kernelspec": {
   "display_name": "Python 3",
   "language": "python",
   "name": "python3"
  },
  "language_info": {
   "codemirror_mode": {
    "name": "ipython",
    "version": 3
   },
   "file_extension": ".py",
   "mimetype": "text/x-python",
   "name": "python",
   "nbconvert_exporter": "python",
   "pygments_lexer": "ipython3",
   "version": "3.6.3"
  }
 },
 "nbformat": 4,
 "nbformat_minor": 1
}
