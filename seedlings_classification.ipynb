{
 "cells": [
  {
   "cell_type": "code",
   "execution_count": null,
   "metadata": {
    "scrolled": true
   },
   "outputs": [],
   "source": [
    "import sys \n",
    "import os\n",
    "sys.version\n",
    "p=os.popen(\"conda list\")\n",
    "mystr=p.read()\n",
    "print(mystr)"
   ]
  },
  {
   "cell_type": "code",
   "execution_count": 2,
   "metadata": {},
   "outputs": [],
   "source": [
    "import download\n",
    "import constants"
   ]
  },
  {
   "cell_type": "code",
   "execution_count": null,
   "metadata": {},
   "outputs": [
    {
     "name": "stdout",
     "output_type": "stream",
     "text": [
      "Please enter username for Kaggle: twinsnan@foxmail.com\n"
     ]
    }
   ],
   "source": [
    "user_info = download.get_user_info()\n",
    "\n",
    "download.download(user_info, constants.train_data_name, constants.train_data_sample_submission + \".zip\",\n",
    "             constants.test_file_directory,\n",
    "             constants.train_data_sample_submission)\n",
    "download.download(user_info, constants.train_data_name, constants.train_data_test + \".zip\", constants.test_file_directory,\n",
    "             constants.train_data_test)\n",
    "download.download(user_info, constants.train_data_name, constants.train_data_train + \".zip\", constants.test_file_directory,\n",
    "             constants.train_data_train)"
   ]
  },
  {
   "cell_type": "code",
   "execution_count": null,
   "metadata": {},
   "outputs": [],
   "source": [
    "import seedlingsdata"
   ]
  },
  {
   "cell_type": "code",
   "execution_count": null,
   "metadata": {},
   "outputs": [],
   "source": [
    "pre_process = seedlingsdata.PreProcess()\n",
    "pre_process.resize(constants.test_file_path, constants.test_output_resize_file_path)\n",
    "pre_process.rotate(constants.test_output_resize_file_path, constants.test_output_rotate_file_path)\n",
    "pre_process.crop(constants.test_output_resize_file_path, constants.test_output_crop_file_path)"
   ]
  },
  {
   "cell_type": "code",
   "execution_count": null,
   "metadata": {},
   "outputs": [],
   "source": [
    "import train"
   ]
  },
  {
   "cell_type": "code",
   "execution_count": null,
   "metadata": {},
   "outputs": [],
   "source": [
    "train.train()"
   ]
  }
 ],
 "metadata": {
  "kernelspec": {
   "display_name": "Python 3",
   "language": "python",
   "name": "python3"
  },
  "language_info": {
   "codemirror_mode": {
    "name": "ipython",
    "version": 3
   },
   "file_extension": ".py",
   "mimetype": "text/x-python",
   "name": "python",
   "nbconvert_exporter": "python",
   "pygments_lexer": "ipython3",
   "version": "3.6.3"
  }
 },
 "nbformat": 4,
 "nbformat_minor": 1
}
